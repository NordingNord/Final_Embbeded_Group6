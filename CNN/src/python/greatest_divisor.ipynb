{
 "cells": [
  {
   "cell_type": "markdown",
   "metadata": {},
   "source": [
    "# Calculate the largest partition value for arrays"
   ]
  },
  {
   "cell_type": "code",
   "execution_count": 17,
   "metadata": {},
   "outputs": [
    {
     "name": "stdout",
     "output_type": "stream",
     "text": [
      "Largest partition <= 1024 for array of size 800 is:\n",
      "800\n"
     ]
    }
   ],
   "source": [
    "max_partitions = 1024\n",
    "array_size = 5*5*32\n",
    "\n",
    "partition = None\n",
    "for i in range(max_partitions, 2, -1):\n",
    "    # print(i)\n",
    "    if array_size%i == 0:\n",
    "        partition = i\n",
    "        break\n",
    "if partition:\n",
    "    print(f\"Largest partition <= {max_partitions} for array of size {array_size} is:\\n{partition}\")\n",
    "else:\n",
    "    print(f\"Did not find partition!\\n{partition}\")"
   ]
  }
 ],
 "metadata": {
  "kernelspec": {
   "display_name": "Python 3",
   "language": "python",
   "name": "python3"
  },
  "language_info": {
   "codemirror_mode": {
    "name": "ipython",
    "version": 3
   },
   "file_extension": ".py",
   "mimetype": "text/x-python",
   "name": "python",
   "nbconvert_exporter": "python",
   "pygments_lexer": "ipython3",
   "version": "3.8.10"
  }
 },
 "nbformat": 4,
 "nbformat_minor": 2
}
